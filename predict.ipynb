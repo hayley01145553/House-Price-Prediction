{
 "cells": [
  {
   "cell_type": "code",
   "execution_count": 1,
   "metadata": {},
   "outputs": [
    {
     "name": "stderr",
     "output_type": "stream",
     "text": [
      "/Users/necronia/anaconda3/lib/python3.7/site-packages/lightgbm/__init__.py:46: UserWarning: Starting from version 2.2.1, the library file in distribution wheels for macOS is built by the Apple Clang (Xcode_9.4.1) compiler.\n",
      "This means that in case of installing LightGBM from PyPI via the ``pip install lightgbm`` command, you don't need to install the gcc compiler anymore.\n",
      "Instead of that, you need to install the OpenMP library, which is required for running LightGBM on the system with the Apple Clang compiler.\n",
      "You can install the OpenMP library by the following command: ``brew install libomp``.\n",
      "  \"You can install the OpenMP library by the following command: ``brew install libomp``.\", UserWarning)\n"
     ]
    }
   ],
   "source": [
    "import sys\n",
    "sys.path.append('../')\n",
    "\n",
    "import pandas as pd\n",
    "import numpy as np\n",
    "from mlxtend.regressor import StackingRegressor\n",
    "from sklearn.ensemble import RandomForestRegressor\n",
    "from sklearn.linear_model import Lasso, Ridge, ElasticNet\n",
    "from sklearn.svm import SVR\n",
    "import xgboost as xgb\n",
    "import lightgbm as lgb\n",
    "\n",
    "from modules.featureEng import *\n",
    "from modules.modelEng import *\n",
    "\n",
    "# to display entire data\n",
    "pd.set_option('display.max_rows', 1500)\n",
    "pd.set_option('display.max_columns', 150)"
   ]
  },
  {
   "cell_type": "code",
   "execution_count": 2,
   "metadata": {},
   "outputs": [],
   "source": [
    "\"\"\"\n",
    "Load Data\n",
    "\"\"\"\n",
    "\n",
    "train_df = pd.read_csv('data/train.csv', index_col='Id')\n",
    "test_df = pd.read_csv('data/test.csv', index_col='Id')"
   ]
  },
  {
   "cell_type": "code",
   "execution_count": 3,
   "metadata": {
    "scrolled": false
   },
   "outputs": [],
   "source": [
    "\"\"\"\n",
    "Feature Engineering\n",
    "\"\"\"\n",
    "\n",
    "train_X = train_df.loc[:,train_df.columns!='SalePrice']\n",
    "train_Y = train_df['SalePrice']\n",
    "test_X = test_df.copy()\n",
    "\n",
    "### for testing ###\n",
    "from sklearn.model_selection import train_test_split\n",
    "train_X, test_X, train_Y, test_Y = train_test_split(train_X, train_Y, random_state=777)\n",
    "###################\n",
    "\n",
    "train_X, train_Y, test_X = pre_processing(train_X, train_Y, test_X)"
   ]
  },
  {
   "cell_type": "code",
   "execution_count": 4,
   "metadata": {
    "scrolled": false
   },
   "outputs": [
    {
     "name": "stdout",
     "output_type": "stream",
     "text": [
      "Fitting 5 folds for each of 12 candidates, totalling 60 fits\n"
     ]
    },
    {
     "name": "stderr",
     "output_type": "stream",
     "text": [
      "[Parallel(n_jobs=2)]: Using backend LokyBackend with 2 concurrent workers.\n",
      "[Parallel(n_jobs=2)]: Done  60 out of  60 | elapsed:    1.3s finished\n",
      "[Parallel(n_jobs=2)]: Using backend LokyBackend with 2 concurrent workers.\n",
      "[Parallel(n_jobs=2)]: Done   5 out of   5 | elapsed:    0.1s finished\n",
      "[Parallel(n_jobs=2)]: Using backend LokyBackend with 2 concurrent workers.\n",
      "[Parallel(n_jobs=2)]: Done  10 out of  10 | elapsed:    0.0s finished\n",
      "[Parallel(n_jobs=2)]: Using backend LokyBackend with 2 concurrent workers.\n"
     ]
    },
    {
     "name": "stdout",
     "output_type": "stream",
     "text": [
      "Estimator: ElasticNet score: (0.1490334592607545) best params: {'alpha': 0.0005, 'l1_ratio': 0.9, 'max_iter': 10000}\n",
      "ElasticNet(alpha=0.0005, copy_X=True, fit_intercept=True, l1_ratio=0.9,\n",
      "           max_iter=10000, normalize=False, positive=False, precompute=False,\n",
      "           random_state=None, selection='cyclic', tol=0.0001, warm_start=False)\n",
      "Fitting 5 folds for each of 1 candidates, totalling 5 fits\n",
      "Estimator: Lasso score: (0.14911154019796666) best params: {'alpha': 0.0005, 'normalize': False}\n",
      "Lasso(alpha=0.0005, copy_X=True, fit_intercept=True, max_iter=1000,\n",
      "      normalize=False, positive=False, precompute=False, random_state=None,\n",
      "      selection='cyclic', tol=0.0001, warm_start=False)\n",
      "Fitting 5 folds for each of 2 candidates, totalling 10 fits\n",
      "Estimator: Ridge score: (0.1465801892615151) best params: {'alpha': 10}\n",
      "Ridge(alpha=10, copy_X=True, fit_intercept=True, max_iter=None, normalize=False,\n",
      "      random_state=None, solver='auto', tol=0.001)\n",
      "Fitting 5 folds for each of 27 candidates, totalling 135 fits\n"
     ]
    },
    {
     "name": "stderr",
     "output_type": "stream",
     "text": [
      "[Parallel(n_jobs=2)]: Done 135 out of 135 | elapsed:    3.1s finished\n",
      "[Parallel(n_jobs=2)]: Using backend LokyBackend with 2 concurrent workers.\n"
     ]
    },
    {
     "name": "stdout",
     "output_type": "stream",
     "text": [
      "Estimator: RandomForestRegressor score: (0.17012436671739664) best params: {'max_depth': 5, 'min_samples_leaf': 3, 'n_estimators': 20}\n",
      "RandomForestRegressor(bootstrap=True, criterion='mse', max_depth=5,\n",
      "                      max_features='auto', max_leaf_nodes=None,\n",
      "                      min_impurity_decrease=0.0, min_impurity_split=None,\n",
      "                      min_samples_leaf=3, min_samples_split=2,\n",
      "                      min_weight_fraction_leaf=0.0, n_estimators=20,\n",
      "                      n_jobs=None, oob_score=False, random_state=None,\n",
      "                      verbose=0, warm_start=False)\n",
      "Fitting 5 folds for each of 1 candidates, totalling 5 fits\n"
     ]
    },
    {
     "name": "stderr",
     "output_type": "stream",
     "text": [
      "[Parallel(n_jobs=2)]: Done   5 out of   5 | elapsed:    7.2s finished\n"
     ]
    },
    {
     "name": "stdout",
     "output_type": "stream",
     "text": [
      "Estimator: SVR score: (0.22393954107979805) best params: {'C': 10000, 'epsilon': 0.1, 'gamma': 'scale'}\n",
      "SVR(C=10000, cache_size=200, coef0=0.0, degree=3, epsilon=0.1, gamma='scale',\n",
      "    kernel='rbf', max_iter=-1, shrinking=True, tol=0.001, verbose=False)\n",
      "Fitting 5 folds for each of 1 candidates, totalling 5 fits\n"
     ]
    },
    {
     "name": "stderr",
     "output_type": "stream",
     "text": [
      "[Parallel(n_jobs=2)]: Using backend LokyBackend with 2 concurrent workers.\n",
      "[Parallel(n_jobs=2)]: Done   5 out of   5 | elapsed:   14.6s finished\n",
      "/Users/necronia/anaconda3/lib/python3.7/site-packages/xgboost/core.py:587: FutureWarning: Series.base is deprecated and will be removed in a future version\n",
      "  if getattr(data, 'base', None) is not None and \\\n"
     ]
    },
    {
     "name": "stdout",
     "output_type": "stream",
     "text": [
      "Estimator: XGBRegressor score: (0.13303103312936873) best params: {'colsample_bytree': 0.5, 'learning_rate': 0.05, 'max_depth': 5, 'n_estimators': 1000, 'refit': True, 'silent': True, 'subsample': 0.9}\n",
      "XGBRegressor(base_score=0.5, booster='gbtree', colsample_bylevel=1,\n",
      "             colsample_bynode=1, colsample_bytree=0.5, gamma=0,\n",
      "             importance_type='gain', learning_rate=0.05, max_delta_step=0,\n",
      "             max_depth=5, min_child_weight=1, missing=None, n_estimators=1000,\n",
      "             n_jobs=1, nthread=None, objective='reg:linear', random_state=0,\n",
      "             refit=True, reg_alpha=0, reg_lambda=1, scale_pos_weight=1,\n",
      "             seed=None, silent=True, subsample=0.9, verbosity=1)\n",
      "Fitting 5 folds for each of 1 candidates, totalling 5 fits\n"
     ]
    },
    {
     "name": "stderr",
     "output_type": "stream",
     "text": [
      "[Parallel(n_jobs=2)]: Using backend LokyBackend with 2 concurrent workers.\n",
      "[Parallel(n_jobs=2)]: Done   5 out of   5 | elapsed:    3.0s finished\n"
     ]
    },
    {
     "name": "stdout",
     "output_type": "stream",
     "text": [
      "Estimator: LGBMRegressor score: (0.14291124018082482) best params: {'learning_rate': 0.05, 'max_bin': 80, 'n_estimators': 1000, 'num_leave': 1, 'objective': 'regression', 'refit': True}\n",
      "LGBMRegressor(boosting_type='gbdt', class_weight=None, colsample_bytree=1.0,\n",
      "              importance_type='split', learning_rate=0.05, max_bin=80,\n",
      "              max_depth=-1, min_child_samples=20, min_child_weight=0.001,\n",
      "              min_split_gain=0.0, n_estimators=1000, n_jobs=-1, num_leave=1,\n",
      "              num_leaves=31, objective='regression', random_state=None,\n",
      "              refit=True, reg_alpha=0.0, reg_lambda=0.0, silent=True,\n",
      "              subsample=1.0, subsample_for_bin=200000, subsample_freq=0)\n"
     ]
    },
    {
     "name": "stderr",
     "output_type": "stream",
     "text": [
      "/Users/necronia/anaconda3/lib/python3.7/site-packages/xgboost/core.py:587: FutureWarning: Series.base is deprecated and will be removed in a future version\n",
      "  if getattr(data, 'base', None) is not None and \\\n"
     ]
    },
    {
     "data": {
      "text/plain": [
       "array([170541.50153205, 202215.42635892, 104775.90914186, 180781.78431457,\n",
       "       241114.66958429, 187160.91550455, 129157.60107061, 161321.39591767,\n",
       "       192111.77038625, 160596.50120746, 137675.98753578, 159875.11758905,\n",
       "       148951.78659925, 168977.98457111, 199981.01497675, 111653.7064852 ,\n",
       "       172311.35819309, 131452.10661114, 197876.22508386, 191920.42108833,\n",
       "       160393.32223385,  97926.85084745, 169715.20590788, 157356.3493169 ,\n",
       "       229081.8689932 , 120936.09645197, 131942.62107574, 152899.18165177,\n",
       "       134003.51509212, 151670.4927465 , 171021.70229946, 229525.79195661,\n",
       "       181095.55933884, 159001.36512981, 122018.64841562, 111697.91116102,\n",
       "       130992.7472139 , 154977.04450222, 128222.73547758, 194090.36329819,\n",
       "       192446.08306622, 200982.91934769, 136319.40981109, 221243.41288243,\n",
       "       294734.99102204, 147963.49340965, 114090.93220716,  93815.41093249,\n",
       "       140298.60827426, 126015.58212133, 139035.81066525, 229307.48907428,\n",
       "       132725.06143836, 233313.37555195, 149575.92802108, 179644.77147581,\n",
       "        86805.43156111, 167157.25007688, 131342.27943955, 105928.3524879 ,\n",
       "       192971.35642562, 124429.00951335, 183815.4437848 , 215796.63763746,\n",
       "       140251.31173793, 184273.86258314, 150540.13868739, 123604.08595545,\n",
       "       133819.30534938, 222711.86615936, 138554.01548047, 138649.97642867,\n",
       "       167365.88290394, 194128.74674243, 124478.75968358, 135578.72134349,\n",
       "       129173.98838535, 146467.33927271, 134940.63658457, 128759.23807333,\n",
       "        82644.07999132, 164531.94176882, 172989.92787874, 120045.88790816,\n",
       "       142757.7269945 , 178965.68126589, 156626.51696492, 144238.57660022,\n",
       "       126976.47717574, 123568.97887031, 142152.41906074, 216772.28009727,\n",
       "       170469.66757642, 153853.49932466, 169041.91887424, 115450.25162607,\n",
       "       107171.60242934, 159596.23958192, 202229.23644347, 204771.5734093 ,\n",
       "       238769.22162563, 167025.47043809, 183607.55356479, 153954.38711633,\n",
       "       204577.71516723, 190088.11169446, 160169.65466026, 147448.6887209 ,\n",
       "       155769.60555267, 131255.86055298, 266018.25984145, 197335.903709  ,\n",
       "       180982.47528082, 206073.44781038, 208141.6772174 , 132433.955141  ,\n",
       "       141217.67290422, 137753.69460963, 210453.76662344, 194368.62727284,\n",
       "       241784.33747959, 194022.95544627, 227298.84569078, 186520.9603102 ,\n",
       "       114708.63060492, 156877.56352135, 139560.28190578,  99510.18093684,\n",
       "       149536.67516545, 171950.55933252, 149271.74804204, 112022.29571082,\n",
       "       197073.16986568, 224950.16630732,  92975.19857332, 171247.66775675,\n",
       "       164602.19083405, 141739.05768854, 144398.19378639, 144134.57573126,\n",
       "       186015.73199537, 132513.08800904, 135586.57091361, 147526.23787687,\n",
       "       197218.28335473, 250397.35283834, 129366.87188428,  78567.42296215,\n",
       "       203993.19670157, 279977.6222969 , 128876.30569936, 115800.81707945,\n",
       "       240145.57551453, 121571.22894577, 169231.41715307, 177172.37893953,\n",
       "       144539.24993065, 143828.62626467, 164817.59080714, 110139.32723145,\n",
       "       223178.48285248, 161463.43070825, 176267.76267809, 232712.30177461,\n",
       "       252480.94959655, 132087.66706264, 125003.7577808 , 146930.65984727,\n",
       "       119319.11077573, 123240.26864688, 223999.81756596, 130385.16231315,\n",
       "       207582.66657471, 196753.16643045, 123274.75431883, 149779.97664322,\n",
       "       252324.00242859, 207416.88949365, 205811.35401386, 202024.14065698,\n",
       "       183798.65517922, 214301.36947283, 134477.20298233, 152780.63276111,\n",
       "       145097.25711653, 154324.37428146, 288661.63391245, 160438.86008982,\n",
       "       175295.75561382, 190149.11459003,  98658.17523984, 327060.71436193,\n",
       "       189791.43676518, 164006.86577707, 329273.79884764,  96222.23335416,\n",
       "       353397.97758536, 348185.16897854, 328883.43444608, 129592.01814834,\n",
       "       172364.37572011, 186595.32925887, 120145.92629081, 148529.7362768 ,\n",
       "       205306.59455784, 130321.62561128, 170281.60678663, 256456.44833598,\n",
       "       175489.69177135, 124486.69448187, 181825.80719996, 182942.18029926,\n",
       "       146043.83346071, 225695.36597979, 142565.02169149, 135480.27437076,\n",
       "       203606.42635034, 166408.71246073, 153148.35659144, 209038.08401446,\n",
       "       157437.68916247, 174745.04840555, 199237.51202319, 310777.93102239,\n",
       "       163770.98449671, 150355.61402802, 160774.51300474, 172832.00796843,\n",
       "       205581.41314394, 239531.11486892, 158476.94463498, 185646.06896949,\n",
       "       221549.21710505, 251114.26902817, 170747.79466449, 140157.70085238,\n",
       "       172803.15115836, 157326.88010959, 146553.85698777, 149958.02815561,\n",
       "       104132.11722333, 136925.52629223, 151420.45317459, 103111.91236295,\n",
       "       300642.69548756, 169263.23581367, 271211.94546953, 101907.51750003,\n",
       "       166474.63551478, 299048.66246014, 138045.35886172, 160518.45202896,\n",
       "       227954.0914918 , 194556.45447237, 135754.55913396, 166916.17419027,\n",
       "       299794.57616754, 273451.12912843, 180187.18796124, 168456.90938781,\n",
       "       162804.08917431, 121863.08528842, 188271.34603959, 179765.61638667,\n",
       "       133550.04323151, 207107.28228413, 103614.26542031, 169634.74898755,\n",
       "       124452.89970987, 152515.37246214, 265765.1988791 , 150877.78258213,\n",
       "       166033.96907355, 275512.81716465, 108989.15735386, 144727.69538083,\n",
       "       252967.21064232,  67792.87464941, 215398.66963393, 144835.97826082,\n",
       "       143457.85612571, 148630.39790152, 141611.49407145, 201447.60570296,\n",
       "       156778.36157153, 187736.23676338, 196081.09766714, 156415.51931343,\n",
       "       174242.70964899, 163784.81842243, 116762.6698551 , 207272.58832089,\n",
       "       160411.23318198, 152395.61085122, 263344.25600273, 142566.38752661,\n",
       "       142166.77503689, 150173.7008085 , 101516.55867287, 178896.30913521,\n",
       "       114792.68143757, 224583.96420094, 266720.9948774 , 140389.18396649,\n",
       "       133907.71807544, 130320.56985913, 136183.84088419, 124820.11385926,\n",
       "       197716.87331509, 188787.00939381, 152373.30140546, 138170.95895158,\n",
       "       135651.52355451, 182292.48321492, 189814.44766586, 205867.16926341,\n",
       "       111465.45115753, 215135.421828  , 120070.79581098, 145578.16800683,\n",
       "       220143.47343584, 124531.2784549 , 197639.0645589 , 155497.59389193,\n",
       "       103923.48113461, 158091.21211958, 246234.5460589 , 106862.92395255,\n",
       "       164580.97949492, 139775.95780965, 145170.63198459, 145206.21925818,\n",
       "       272885.66789529,  81852.91677419, 222766.61739329, 132825.62082556,\n",
       "       149763.2899144 , 278113.98777784,  93356.33385623, 134288.4177491 ,\n",
       "       135069.2914623 , 149447.41409233, 222041.40337124, 146773.32463796,\n",
       "       123173.89614678, 142664.72859183, 185580.33617256, 189667.82848083,\n",
       "       149413.9627254 , 210178.89396025, 127659.98626725, 156375.07998382,\n",
       "       135372.0012021 , 160861.17898535, 208943.20448024, 106526.07226489,\n",
       "       131045.61441269, 130112.46592331, 172039.41818   , 231732.22215635,\n",
       "       293856.09520903, 189020.54371557, 135407.12645422, 109806.66853048,\n",
       "       152150.03109922])"
      ]
     },
     "execution_count": 4,
     "metadata": {},
     "output_type": "execute_result"
    }
   ],
   "source": [
    "\"\"\"\n",
    "Predict house price\n",
    "\"\"\"\n",
    "\n",
    "elastic_net = grid_search(train_X, train_Y, ElasticNet())\n",
    "lasso = grid_search(train_X, train_Y, Lasso())\n",
    "ridge = grid_search(train_X, train_Y, Ridge())\n",
    "random_forest = grid_search(train_X, train_Y, RandomForestRegressor())\n",
    "support_vector_regressor = grid_search(train_X, train_Y, SVR())\n",
    "XGBoost = grid_search(train_X, train_Y, xgb.XGBRegressor())\n",
    "light_GBM = grid_search(train_X, train_Y, lgb.LGBMRegressor())\n",
    "\n",
    "stacked_regression = StackingRegressor(\n",
    "        regressors=[elastic_net, lasso, ridge, random_forest, support_vector_regressor, XGBoost, light_GBM],\n",
    "        meta_regressor=SVR(kernel='sigmoid', gamma='scale')\n",
    ")\n",
    "\n",
    "stacked_regression.fit(train_X, train_Y)\n",
    "\n",
    "stacked = stacked_regression.predict(test_X)\n",
    "\n",
    "ensembled = np.expm1((0.1 * elastic_net.predict(test_X)) +\n",
    "                     (0.1 * lasso.predict(test_X)) +\n",
    "                     (0.1 * ridge.predict(test_X)) +\n",
    "                     (0.1 * random_forest.predict(test_X)) +\n",
    "                     (0.2 * XGBoost.predict(test_X)) +\n",
    "                     (0.2 * light_GBM.predict(test_X)) +\n",
    "                     (0.2 * stacked))\n",
    "\n",
    "ensembled"
   ]
  },
  {
   "cell_type": "code",
   "execution_count": 5,
   "metadata": {},
   "outputs": [
    {
     "name": "stdout",
     "output_type": "stream",
     "text": [
      "Score : 25911.02112557232\n"
     ]
    }
   ],
   "source": [
    "### for testing ###\n",
    "RMSE = np.mean((ensembled - test_Y)**2)**(1/2) \n",
    "print('Score : ' + str(RMSE))\n",
    "###################\n",
    "\n",
    "\"\"\"\n",
    "Export submission data\n",
    "\"\"\"\n",
    "submission = pd.DataFrame({\n",
    "    'Id':test_X.index,\n",
    "    'SalePrice':ensembled\n",
    "})\n",
    "submission.to_csv('data/submission.csv', index=False)"
   ]
  },
  {
   "cell_type": "code",
   "execution_count": null,
   "metadata": {},
   "outputs": [],
   "source": []
  }
 ],
 "metadata": {
  "kernelspec": {
   "display_name": "Python 3",
   "language": "python",
   "name": "python3"
  },
  "language_info": {
   "codemirror_mode": {
    "name": "ipython",
    "version": 3
   },
   "file_extension": ".py",
   "mimetype": "text/x-python",
   "name": "python",
   "nbconvert_exporter": "python",
   "pygments_lexer": "ipython3",
   "version": "3.7.3"
  }
 },
 "nbformat": 4,
 "nbformat_minor": 2
}
