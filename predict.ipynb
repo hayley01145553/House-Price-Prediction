{
 "cells": [
  {
   "cell_type": "code",
   "execution_count": 1,
   "metadata": {},
   "outputs": [
    {
     "name": "stderr",
     "output_type": "stream",
     "text": [
      "/Users/necronia/anaconda3/lib/python3.7/site-packages/lightgbm/__init__.py:46: UserWarning: Starting from version 2.2.1, the library file in distribution wheels for macOS is built by the Apple Clang (Xcode_9.4.1) compiler.\n",
      "This means that in case of installing LightGBM from PyPI via the ``pip install lightgbm`` command, you don't need to install the gcc compiler anymore.\n",
      "Instead of that, you need to install the OpenMP library, which is required for running LightGBM on the system with the Apple Clang compiler.\n",
      "You can install the OpenMP library by the following command: ``brew install libomp``.\n",
      "  \"You can install the OpenMP library by the following command: ``brew install libomp``.\", UserWarning)\n"
     ]
    }
   ],
   "source": [
    "import sys\n",
    "sys.path.append('../')\n",
    "\n",
    "import pandas as pd\n",
    "import numpy as np\n",
    "from mlxtend.regressor import StackingRegressor\n",
    "from sklearn.ensemble import RandomForestRegressor\n",
    "from sklearn.linear_model import Lasso, Ridge, ElasticNet\n",
    "from sklearn.svm import SVR\n",
    "import xgboost as xgb\n",
    "import lightgbm as lgb\n",
    "\n",
    "from modules.featureEng import *\n",
    "from modules.modelEng import *\n",
    "\n",
    "# to display entire data\n",
    "pd.set_option('display.max_rows', 1500)\n",
    "pd.set_option('display.max_columns', 150)"
   ]
  },
  {
   "cell_type": "code",
   "execution_count": 2,
   "metadata": {},
   "outputs": [],
   "source": [
    "\"\"\"\n",
    "Load Data\n",
    "\"\"\"\n",
    "\n",
    "train_df = pd.read_csv('data/train.csv', index_col='Id')\n",
    "test_df = pd.read_csv('data/test.csv', index_col='Id')"
   ]
  },
  {
   "cell_type": "code",
   "execution_count": 3,
   "metadata": {
    "scrolled": false
   },
   "outputs": [],
   "source": [
    "\"\"\"\n",
    "Feature Engineering\n",
    "\"\"\"\n",
    "\n",
    "train_X = train_df.loc[:,train_df.columns!='SalePrice']\n",
    "train_Y = train_df['SalePrice']\n",
    "test_X = test_df.copy()\n",
    "\n",
    "### for testing ###\n",
    "from sklearn.model_selection import train_test_split\n",
    "train_X, test_X, train_Y, test_Y = train_test_split(train_X, train_Y, random_state=777)\n",
    "###################\n",
    "\n",
    "train_X, train_Y, test_X = pre_processing(train_X, train_Y, test_X)"
   ]
  },
  {
   "cell_type": "code",
   "execution_count": 4,
   "metadata": {
    "scrolled": false
   },
   "outputs": [
    {
     "name": "stdout",
     "output_type": "stream",
     "text": [
      "Fitting 5 folds for each of 12 candidates, totalling 60 fits\n"
     ]
    },
    {
     "name": "stderr",
     "output_type": "stream",
     "text": [
      "[Parallel(n_jobs=8)]: Using backend LokyBackend with 8 concurrent workers.\n",
      "[Parallel(n_jobs=8)]: Done  34 tasks      | elapsed:    1.2s\n",
      "[Parallel(n_jobs=8)]: Done  45 out of  60 | elapsed:    1.3s remaining:    0.4s\n",
      "[Parallel(n_jobs=8)]: Done  60 out of  60 | elapsed:    1.3s finished\n",
      "[Parallel(n_jobs=8)]: Using backend LokyBackend with 8 concurrent workers.\n",
      "[Parallel(n_jobs=8)]: Done   2 out of   5 | elapsed:    0.0s remaining:    0.0s\n",
      "[Parallel(n_jobs=8)]: Done   5 out of   5 | elapsed:    0.0s finished\n",
      "[Parallel(n_jobs=8)]: Using backend LokyBackend with 8 concurrent workers.\n",
      "[Parallel(n_jobs=8)]: Done   6 out of  10 | elapsed:    0.0s remaining:    0.0s\n",
      "[Parallel(n_jobs=8)]: Done  10 out of  10 | elapsed:    0.0s finished\n",
      "[Parallel(n_jobs=8)]: Using backend LokyBackend with 8 concurrent workers.\n"
     ]
    },
    {
     "name": "stdout",
     "output_type": "stream",
     "text": [
      "Estimator: ElasticNet score: (0.14857125795044604) best params: {'alpha': 0.0005, 'l1_ratio': 0.9, 'max_iter': 10000}\n",
      "ElasticNet(alpha=0.0005, copy_X=True, fit_intercept=True, l1_ratio=0.9,\n",
      "           max_iter=10000, normalize=False, positive=False, precompute=False,\n",
      "           random_state=None, selection='cyclic', tol=0.0001, warm_start=False)\n",
      "Fitting 5 folds for each of 1 candidates, totalling 5 fits\n",
      "Estimator: Lasso score: (0.14860863563194082) best params: {'alpha': 0.0005, 'normalize': False}\n",
      "Lasso(alpha=0.0005, copy_X=True, fit_intercept=True, max_iter=1000,\n",
      "      normalize=False, positive=False, precompute=False, random_state=None,\n",
      "      selection='cyclic', tol=0.0001, warm_start=False)\n",
      "Fitting 5 folds for each of 2 candidates, totalling 10 fits\n",
      "Estimator: Ridge score: (0.14615195498462277) best params: {'alpha': 10}\n",
      "Ridge(alpha=10, copy_X=True, fit_intercept=True, max_iter=None, normalize=False,\n",
      "      random_state=None, solver='auto', tol=0.001)\n",
      "Fitting 5 folds for each of 27 candidates, totalling 135 fits\n"
     ]
    },
    {
     "name": "stderr",
     "output_type": "stream",
     "text": [
      "[Parallel(n_jobs=8)]: Done  34 tasks      | elapsed:   13.0s\n",
      "[Parallel(n_jobs=8)]: Done 135 out of 135 | elapsed:  1.2min finished\n"
     ]
    },
    {
     "name": "stdout",
     "output_type": "stream",
     "text": [
      "Estimator: RandomForestRegressor score: (0.16738637075964966) best params: {'max_depth': 5, 'min_samples_leaf': 4, 'n_estimators': 700}\n",
      "RandomForestRegressor(bootstrap=True, criterion='mse', max_depth=5,\n",
      "                      max_features='auto', max_leaf_nodes=None,\n",
      "                      min_impurity_decrease=0.0, min_impurity_split=None,\n",
      "                      min_samples_leaf=4, min_samples_split=2,\n",
      "                      min_weight_fraction_leaf=0.0, n_estimators=700,\n",
      "                      n_jobs=None, oob_score=False, random_state=None,\n",
      "                      verbose=0, warm_start=False)\n",
      "Fitting 5 folds for each of 1 candidates, totalling 5 fits\n"
     ]
    },
    {
     "name": "stderr",
     "output_type": "stream",
     "text": [
      "[Parallel(n_jobs=8)]: Using backend LokyBackend with 8 concurrent workers.\n",
      "[Parallel(n_jobs=8)]: Done   2 out of   5 | elapsed:    0.8s remaining:    1.2s\n",
      "[Parallel(n_jobs=8)]: Done   5 out of   5 | elapsed:    0.9s finished\n"
     ]
    },
    {
     "name": "stdout",
     "output_type": "stream",
     "text": [
      "Estimator: SVR score: (0.15450023987586875) best params: {'C': 10000, 'epsilon': 0.1, 'gamma': 'scale'}\n",
      "SVR(C=10000, cache_size=200, coef0=0.0, degree=3, epsilon=0.1, gamma='scale',\n",
      "    kernel='rbf', max_iter=-1, shrinking=True, tol=0.001, verbose=False)\n",
      "Fitting 5 folds for each of 1 candidates, totalling 5 fits\n"
     ]
    },
    {
     "name": "stderr",
     "output_type": "stream",
     "text": [
      "[Parallel(n_jobs=8)]: Using backend LokyBackend with 8 concurrent workers.\n",
      "[Parallel(n_jobs=8)]: Done   2 out of   5 | elapsed:   12.8s remaining:   19.2s\n",
      "[Parallel(n_jobs=8)]: Done   5 out of   5 | elapsed:   13.2s finished\n",
      "/Users/necronia/anaconda3/lib/python3.7/site-packages/xgboost/core.py:587: FutureWarning: Series.base is deprecated and will be removed in a future version\n",
      "  if getattr(data, 'base', None) is not None and \\\n"
     ]
    },
    {
     "name": "stdout",
     "output_type": "stream",
     "text": [
      "Estimator: XGBRegressor score: (0.13283619047384793) best params: {'colsample_bytree': 0.5, 'learning_rate': 0.05, 'max_depth': 5, 'n_estimators': 3000, 'refit': True, 'silent': True, 'subsample': 0.9}\n",
      "XGBRegressor(base_score=0.5, booster='gbtree', colsample_bylevel=1,\n",
      "             colsample_bynode=1, colsample_bytree=0.5, gamma=0,\n",
      "             importance_type='gain', learning_rate=0.05, max_delta_step=0,\n",
      "             max_depth=5, min_child_weight=1, missing=None, n_estimators=3000,\n",
      "             n_jobs=1, nthread=None, objective='reg:linear', random_state=0,\n",
      "             refit=True, reg_alpha=0, reg_lambda=1, scale_pos_weight=1,\n",
      "             seed=None, silent=True, subsample=0.9, verbosity=1)\n",
      "Fitting 5 folds for each of 1 candidates, totalling 5 fits\n"
     ]
    },
    {
     "name": "stderr",
     "output_type": "stream",
     "text": [
      "[Parallel(n_jobs=8)]: Using backend LokyBackend with 8 concurrent workers.\n",
      "[Parallel(n_jobs=8)]: Done   2 out of   5 | elapsed:    3.5s remaining:    5.3s\n",
      "[Parallel(n_jobs=8)]: Done   5 out of   5 | elapsed:    3.7s finished\n"
     ]
    },
    {
     "name": "stdout",
     "output_type": "stream",
     "text": [
      "Estimator: LGBMRegressor score: (0.14131903493886588) best params: {'learning_rate': 0.05, 'max_bin': 80, 'n_estimators': 3000, 'num_leave': 1, 'objective': 'regression', 'refit': True}\n",
      "LGBMRegressor(boosting_type='gbdt', class_weight=None, colsample_bytree=1.0,\n",
      "              importance_type='split', learning_rate=0.05, max_bin=80,\n",
      "              max_depth=-1, min_child_samples=20, min_child_weight=0.001,\n",
      "              min_split_gain=0.0, n_estimators=3000, n_jobs=-1, num_leave=1,\n",
      "              num_leaves=31, objective='regression', random_state=None,\n",
      "              refit=True, reg_alpha=0.0, reg_lambda=0.0, silent=True,\n",
      "              subsample=1.0, subsample_for_bin=200000, subsample_freq=0)\n"
     ]
    },
    {
     "name": "stderr",
     "output_type": "stream",
     "text": [
      "/Users/necronia/anaconda3/lib/python3.7/site-packages/xgboost/core.py:587: FutureWarning: Series.base is deprecated and will be removed in a future version\n",
      "  if getattr(data, 'base', None) is not None and \\\n"
     ]
    },
    {
     "data": {
      "text/plain": [
       "array([171363.56389476, 207842.36923158,  98801.58874207, 185465.77005842,\n",
       "       252071.0978677 , 191383.10817278, 126073.41580385, 163183.03682172,\n",
       "       193272.27761904, 160250.51576943, 134817.66834954, 160304.18672913,\n",
       "       149605.82761328, 166419.96954599, 203132.65332552, 107431.10025494,\n",
       "       171302.5564112 , 127851.29212588, 202542.91461714, 195563.72547021,\n",
       "       161998.99768947,  90818.32055446, 171242.0149559 , 155890.16502268,\n",
       "       236636.55851987, 115866.27681518, 128129.88479721, 151876.06829172,\n",
       "       129663.20564577, 150564.28187446, 173695.70899067, 239164.37360146,\n",
       "       182461.16888425, 160546.38687193, 117338.42976976, 105855.00181764,\n",
       "       127540.73749951, 150808.84876204, 124536.1608822 , 200403.44203998,\n",
       "       195920.61126176, 207272.84233734, 135396.79656286, 231476.82532502,\n",
       "       315779.67826013, 144852.54915263, 108005.35614622,  86246.3691949 ,\n",
       "       137630.42623093, 121078.83689724, 137122.3432196 , 242123.12882929,\n",
       "       131206.37469356, 251634.27267022, 146401.17164819, 182772.83634233,\n",
       "        81116.72580979, 169598.54462942, 127158.29847652, 102305.79431532,\n",
       "       198792.90016811, 119646.59714796, 185414.08061652, 222111.6433463 ,\n",
       "       139573.93467071, 186374.87698458, 149227.64456405, 120098.88661885,\n",
       "       132779.0776555 , 231941.36094136, 135513.08615771, 135843.12632728,\n",
       "       168947.50503484, 200240.03773988, 121020.95307147, 133300.4710193 ,\n",
       "       125139.09855461, 144071.5134933 , 132307.22088549, 125445.18397101,\n",
       "        75491.13723128, 163413.12060598, 173323.02926852, 115741.56160144,\n",
       "       140688.41727527, 182764.81597528, 157377.81998236, 142456.56492509,\n",
       "       122714.04850538, 119444.74113867, 139925.19081833, 225208.39073467,\n",
       "       172140.20871381, 152890.57694526, 168811.17781499, 110529.41777169,\n",
       "       100412.03174322, 160843.08303828, 211919.38266152, 205540.63206112,\n",
       "       256347.93864644, 168802.03764239, 188278.25668526, 152371.8308895 ,\n",
       "       211006.12382854, 194988.69101549, 160055.06105638, 143789.383836  ,\n",
       "       156114.7845327 , 127915.2570229 , 287260.42284697, 203159.06016748,\n",
       "       182796.63737399, 217048.88558639, 214489.5660134 , 128132.0541714 ,\n",
       "       138210.01846399, 134062.75459594, 219586.36604434, 198065.99516633,\n",
       "       251092.03000273, 198867.67316299, 235866.02445931, 188941.11791369,\n",
       "       109498.22798026, 158583.17958345, 137030.0200956 ,  91930.20393926,\n",
       "       147637.69085093, 173109.03491836, 147578.57833734, 107384.02681558,\n",
       "       203743.08469913, 237966.18381261,  84245.96698089, 171646.95529761,\n",
       "       164205.68261272, 138602.99264154, 141270.09778751, 141378.11905816,\n",
       "       191674.99235849, 127889.54119061, 133049.73645018, 146711.91643889,\n",
       "       200327.60771997, 265430.95410218, 126213.03156853,  70286.75895263,\n",
       "       208500.36180832, 300356.14175653, 124542.69443581, 111892.19974568,\n",
       "       251838.93149911, 116215.15757729, 168168.1358041 , 179110.85371506,\n",
       "       141800.82798372, 141596.84329564, 166908.17828839, 103966.98148814,\n",
       "       228967.69840454, 160202.41782605, 177715.32654169, 243748.49424905,\n",
       "       261408.31663097, 126253.88204598, 121120.12804856, 144055.87662093,\n",
       "       114919.08324468, 118537.65787123, 233182.96018227, 127482.02816299,\n",
       "       213496.27144055, 201935.23814378, 120050.61761353, 148158.70006375,\n",
       "       268430.7455035 , 212682.50585188, 212989.26496375, 210898.76280078,\n",
       "       186745.38345041, 221911.99152417, 130975.68276828, 151244.65365294,\n",
       "       143373.29912418, 151999.25998847, 308866.66244525, 159363.50124552,\n",
       "       175193.6344858 , 190125.95684161,  90793.95023883, 357592.02143853,\n",
       "       190925.88215179, 164613.46213069, 364986.2250909 ,  90396.73819656,\n",
       "       387426.1759378 , 388893.90955923, 368832.92808373, 127151.3038462 ,\n",
       "       173090.11818907, 189473.34265117, 114501.85384597, 146820.46762301,\n",
       "       216337.24418566, 127222.73823116, 169445.18311715, 269881.97188745,\n",
       "       178919.66269276, 119313.25334649, 183415.82682023, 183329.15034759,\n",
       "       145597.8816772 , 231838.72088378, 141131.73810814, 134735.1560388 ,\n",
       "       209995.80667941, 167121.63868982, 150729.55453722, 214395.54270585,\n",
       "       157562.527923  , 174960.30811229, 202082.86563569, 335025.07239037,\n",
       "       165764.80396272, 148016.90547757, 162864.7131761 , 173408.32632136,\n",
       "       212279.20295007, 253624.13678629, 160093.74190469, 189812.68034601,\n",
       "       227976.53496905, 267720.4618554 , 170949.38651752, 137943.12494291,\n",
       "       173610.16497473, 157367.3604691 , 146354.42049896, 148045.55678337,\n",
       "        97953.74708919, 135667.85593064, 150634.02416206,  97826.02505771,\n",
       "       330517.36338414, 170307.10327765, 288940.91903957,  94552.50440059,\n",
       "       167215.58581805, 322898.95835834, 134015.20544901, 159576.1484824 ,\n",
       "       240046.78073562, 199906.88910364, 133264.172907  , 169046.50561253,\n",
       "       325544.10545942, 294709.64653864, 182301.30883631, 168258.08792248,\n",
       "       165131.13081457, 117028.5520468 , 196136.85366471, 184184.56457173,\n",
       "       130980.22989677, 215091.30643336,  97830.30269589, 169413.61028512,\n",
       "       119294.41435994, 151292.97902363, 283063.29920644, 150069.40362818,\n",
       "       165913.13676865, 293091.23424571, 103545.09117462, 142687.78919409,\n",
       "       270262.03169878,  60156.09592866, 225148.7806695 , 143783.68440377,\n",
       "       141369.44042604, 146509.94529541, 139334.56886749, 204497.87090658,\n",
       "       154820.65818641, 192216.12802851, 204653.9296207 , 156739.09748379,\n",
       "       176511.10617137, 167891.87657848, 111018.59512761, 213828.04749532,\n",
       "       161331.36462648, 150292.21525523, 278015.21946274, 138814.61929778,\n",
       "       140886.99979537, 150243.46294651,  94201.70945506, 179518.74255764,\n",
       "       109251.09958697, 234258.92165947, 281332.88245507, 137708.35363844,\n",
       "       130716.86775181, 124612.5885739 , 134878.41567096, 120127.49905941,\n",
       "       200926.59077956, 191105.61749303, 151196.71417831, 135895.35645224,\n",
       "       131553.47415532, 182736.11497477, 191257.51992276, 213744.13195068,\n",
       "       105673.77711064, 223413.34766564, 115477.83317797, 140621.40027529,\n",
       "       229431.23926496, 120476.10998255, 203288.48313815, 156377.26623429,\n",
       "        98865.15444283, 157317.25875463, 257704.62654533, 100773.84021717,\n",
       "       164763.19243962, 137844.05030868, 140583.49690789, 145414.82186834,\n",
       "       297084.31754511,  76346.13989693, 231798.4238059 , 129442.8833077 ,\n",
       "       147496.13090028, 297183.10382905,  85334.02236047, 131404.71760882,\n",
       "       129238.46063941, 148021.26731963, 233193.965842  , 143016.422008  ,\n",
       "       116847.41289597, 141202.7834079 , 187913.18059665, 193932.10390157,\n",
       "       147623.43212119, 219434.9570433 , 123279.07118403, 156348.8659298 ,\n",
       "       130651.07481921, 158924.57904818, 215702.7056935 , 101736.36684592,\n",
       "       126392.03130656, 125369.20627227, 175723.60010971, 242810.41901284,\n",
       "       315751.20401394, 193280.93592774, 132071.66476482, 103638.74488609,\n",
       "       150105.92045271])"
      ]
     },
     "execution_count": 4,
     "metadata": {},
     "output_type": "execute_result"
    }
   ],
   "source": [
    "\"\"\"\n",
    "Predict house price\n",
    "\"\"\"\n",
    "\n",
    "elastic_net = grid_search(train_X, train_Y, ElasticNet())\n",
    "lasso = grid_search(train_X, train_Y, Lasso())\n",
    "ridge = grid_search(train_X, train_Y, Ridge())\n",
    "random_forest = grid_search(train_X, train_Y, RandomForestRegressor())\n",
    "support_vector_regressor = grid_search(train_X, train_Y, SVR())\n",
    "XGBoost = grid_search(train_X, train_Y, xgb.XGBRegressor())\n",
    "light_GBM = grid_search(train_X, train_Y, lgb.LGBMRegressor())\n",
    "\n",
    "stacked_regression = StackingRegressor(\n",
    "        regressors=[elastic_net, lasso, ridge, random_forest, support_vector_regressor, XGBoost, light_GBM],\n",
    "        meta_regressor=SVR(kernel='sigmoid', gamma='scale')\n",
    ")\n",
    "\n",
    "stacked_regression.fit(train_X, train_Y)\n",
    "\n",
    "stacked = stacked_regression.predict(test_X)\n",
    "\n",
    "ensembled = np.expm1((0.1 * elastic_net.predict(test_X)) +\n",
    "                     (0.1 * lasso.predict(test_X)) +\n",
    "                     (0.1 * ridge.predict(test_X)) +\n",
    "                     (0.05 * random_forest.predict(test_X)) +\n",
    "                     (0.3 * XGBoost.predict(test_X)) +\n",
    "                     (0.25 * light_GBM.predict(test_X)) +\n",
    "                     (0.1 * stacked))\n",
    "\n",
    "ensembled"
   ]
  },
  {
   "cell_type": "code",
   "execution_count": 5,
   "metadata": {},
   "outputs": [
    {
     "name": "stdout",
     "output_type": "stream",
     "text": [
      "Score : 20737.386942341505\n"
     ]
    }
   ],
   "source": [
    "### for testing ###\n",
    "RMSE = np.mean((ensembled - test_Y)**2)**(1/2) \n",
    "print('Score : ' + str(RMSE))\n",
    "###################\n",
    "\n",
    "\"\"\"\n",
    "Export submission data\n",
    "\"\"\"\n",
    "submission = pd.DataFrame({\n",
    "    'Id':test_X.index,\n",
    "    'SalePrice':ensembled\n",
    "})\n",
    "submission.to_csv('data/submission.csv', index=False)"
   ]
  },
  {
   "cell_type": "code",
   "execution_count": null,
   "metadata": {},
   "outputs": [],
   "source": []
  }
 ],
 "metadata": {
  "kernelspec": {
   "display_name": "Python 3",
   "language": "python",
   "name": "python3"
  },
  "language_info": {
   "codemirror_mode": {
    "name": "ipython",
    "version": 3
   },
   "file_extension": ".py",
   "mimetype": "text/x-python",
   "name": "python",
   "nbconvert_exporter": "python",
   "pygments_lexer": "ipython3",
   "version": "3.7.3"
  }
 },
 "nbformat": 4,
 "nbformat_minor": 2
}
