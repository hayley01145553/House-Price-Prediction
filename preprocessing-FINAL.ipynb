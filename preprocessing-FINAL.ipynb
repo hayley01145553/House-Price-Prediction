{
 "cells": [
  {
   "cell_type": "code",
   "execution_count": 1,
   "metadata": {},
   "outputs": [],
   "source": [
    "import pandas as pd\n",
    "import numpy as np\n",
    "\n",
    "train = pd.read_csv('./data/train.csv', index_col = 'Id')\n",
    "test = pd.read_csv('./data/test.csv', index_col = 'Id')"
   ]
  },
  {
   "cell_type": "code",
   "execution_count": 44,
   "metadata": {},
   "outputs": [],
   "source": [
    "df1 = train.copy()\n",
    "df2 = test.copy()"
   ]
  },
  {
   "cell_type": "markdown",
   "metadata": {},
   "source": [
    "# Training Dataset Preprocessing"
   ]
  },
  {
   "cell_type": "code",
   "execution_count": 49,
   "metadata": {},
   "outputs": [],
   "source": [
    "# Hyelee\n",
    "## Alley : convert NaN => NA\n",
    "df1['Alley'].fillna('NA',inplace=True)\n",
    "## LotFrontage : convert NaN => ???? \n",
    "# <CASE1> Using LotArea \n",
    "df1['LotFrontage'].fillna(df1['LotArea'] *0.007206024910841549,inplace=True)\n",
    "\n",
    "# Alyssa\n",
    "# fill in for masonry stuff with None and 0\n",
    "df1['MasVnrType'].fillna('None',inplace=True)\n",
    "df1['MasVnrArea'].fillna('None',inplace=True)\n",
    "df1.loc[949,'BsmtExposure'] = 'No' # impute the ID949's BsmtExposure with the mode of 'BsmtExposure'\n",
    "\n",
    "# Kisoo\n",
    "df1.FireplaceQu = df1.FireplaceQu.fillna('NA') # without Fireplace, there is no FireplaceQu.\n",
    "df1.Electrical = df1.Electrical.fillna('SBrkr') # since Utility column, there is electricity obviously, so it filled with most common Electrical type 'SBrkr'\n",
    "\n",
    "# Wonchan\n",
    "# Feature Engineering for Time Series Columns\n",
    "df1['GarageYrBltImputed'] = np.where(df1['GarageYrBlt'].isnull(), 1, 0)\n",
    "\n",
    "# impute the missing years with the value of the year built plus the mean of the diff of year built and garageyrbuilt\n",
    "aveDiff = np.mean(df1['GarageYrBlt']-df1['YearBuilt'])\n",
    "df1['GarageYrBlt'].fillna(df1['GarageYrBlt'] + aveDiff,inplace=True)\n",
    "\n",
    "# fill rest with NA string\n",
    "df1 = df1.fillna('NA')\n"
   ]
  },
  {
   "cell_type": "code",
   "execution_count": null,
   "metadata": {},
   "outputs": [],
   "source": [
    "# Hyelee\n",
    "## Alley : convert NaN => NA\n",
    "df1['Alley'].fillna('NA',inplace=True)\n",
    "## LotFrontage : convert NaN => ???? \n",
    "# <CASE2> Using Neighborhood \n",
    "df_tmp = df1[~df1.LotFrontage.isnull()]\n",
    "df_md_lotfrontage = df_tmp.groupby('Neighborhood').agg('median')[{'LotFrontage'}]\n",
    "df_md_lotfrontage = df_md_lotfrontage.rename(columns={\"LotFrontage\" : \"mdLotFrontage\"})\n",
    "df_tmp = df_tmp.merge(df_md_lotfrontage, how=\"inner\", on='Neighborhood')\n",
    "df1= pd.concat([df1.reset_index().set_index('Neighborhood'),df_md_lotfrontage], axis=1, join='inner').reset_index().set_index('Id')\n",
    "df1['LotFrontage'].fillna(df1['mdLotFrontage'],inplace=True)\n",
    "df1= df1.drop(columns=['mdLotFrontage'])\n",
    "\n",
    "# Alyssa\n",
    "# fill in for masonry stuff with None and 0\n",
    "df1['MasVnrType'].fillna('None',inplace=True)\n",
    "df1['MasVnrArea'].fillna('None',inplace=True)\n",
    "df1.loc[949,'BsmtExposure'] = 'No' # impute the ID949's BsmtExposure with the mode of 'BsmtExposure'\n",
    "\n",
    "# Kisoo\n",
    "df1.FireplaceQu = df1.FireplaceQu.fillna('NA') # without Fireplace, there is no FireplaceQu.\n",
    "df1.Electrical = df1.Electrical.fillna('SBrkr') # since Utility column, there is electricity obviously, so it filled with most common Electrical type 'SBrkr'\n",
    "\n",
    "# Wonchan\n",
    "# Feature Engineering for Time Series Columns\n",
    "df1['GarageYrBltImputed'] = np.where(df1['GarageYrBlt'].isnull(), 1, 0)\n",
    "\n",
    "# impute the missing years with the value of the year built plus the mean of the diff of year built and garageyrbuilt\n",
    "aveDiff = np.mean(df1['GarageYrBlt']-df1['YearBuilt'])\n",
    "df1['GarageYrBlt'].fillna(df1['GarageYrBlt'] + aveDiff,inplace=True)\n",
    "\n",
    "# fill rest with NA string\n",
    "df1 = df1.fillna('NA')"
   ]
  },
  {
   "cell_type": "markdown",
   "metadata": {},
   "source": [
    "# Test Dataset Preprocessing"
   ]
  },
  {
   "cell_type": "code",
   "execution_count": null,
   "metadata": {},
   "outputs": [],
   "source": [
    "# Hyelee\n",
    "## Alley : convert NaN => NA\n",
    "df1['Alley'].fillna('NA',inplace=True)\n",
    "## LotFrontage : convert NaN => ???? \n",
    "# <CASE1> Using LotArea \n",
    "df1['LotFrontage'].fillna(df1['LotArea'] *0.007206024910841549,inplace=True)\n",
    "\n",
    "# Alyssa\n",
    "# fill in for masonry stuff with None and 0\n",
    "df1['MasVnrType'].fillna('None',inplace=True)\n",
    "df1['MasVnrArea'].fillna('None',inplace=True)\n",
    "df1.loc[949,'BsmtExposure'] = 'No' # impute the ID949's BsmtExposure with the mode of 'BsmtExposure'\n",
    "\n",
    "# Kisoo\n",
    "df1.FireplaceQu = df1.FireplaceQu.fillna('NA') # without Fireplace, there is no FireplaceQu.\n",
    "df1.Electrical = df1.Electrical.fillna('SBrkr') # since Utility column, there is electricity obviously, so it filled with most common Electrical type 'SBrkr'\n",
    "\n",
    "# Wonchan\n",
    "# Feature Engineering for Time Series Columns\n",
    "df1['GarageYrBltImputed'] = np.where(df1['GarageYrBlt'].isnull(), 1, 0)\n",
    "\n",
    "# impute the missing years with the value of the year built plus the mean of the diff of year built and garageyrbuilt\n",
    "aveDiff = np.mean(df1['GarageYrBlt']-df1['YearBuilt'])\n",
    "df1['GarageYrBlt'].fillna(df1['GarageYrBlt'] + aveDiff,inplace=True)\n",
    "\n",
    "# fill rest with NA string\n",
    "df1 = df1.fillna('NA')\n"
   ]
  }
 ],
 "metadata": {
  "kernelspec": {
   "display_name": "Python 3",
   "language": "python",
   "name": "python3"
  },
  "language_info": {
   "codemirror_mode": {
    "name": "ipython",
    "version": 3
   },
   "file_extension": ".py",
   "mimetype": "text/x-python",
   "name": "python",
   "nbconvert_exporter": "python",
   "pygments_lexer": "ipython3",
   "version": "3.7.3"
  }
 },
 "nbformat": 4,
 "nbformat_minor": 2
}
