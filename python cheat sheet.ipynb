{
 "cells": [
  {
   "cell_type": "code",
   "execution_count": null,
   "metadata": {},
   "outputs": [],
   "source": [
    "# DataFrame colum rename\n",
    "df.rename(columns={\"A\": \"a\", \"B\": \"c\"})\n",
    "\n",
    "## lambda if \n",
    "df[\"one\"].apply( x: x*10 if x<2 else (x**2 if x<4 else x+10))\n",
    "\n",
    "## Dataframe drop column using column name\n",
    "df.drop(columns=['MedianSalePrice1','MedianSalePrice2'], inplace=True)\n",
    "\n",
    "# Dataframe drop row \n",
    "\n",
    "# Dataframe loc df.loc[row,col]\n",
    "df_train_num.loc[:,['BsmtFullBath','BsmtHalfBath','FullBath','HalfBath','SalePrice']]"
   ]
  }
 ],
 "metadata": {
  "kernelspec": {
   "display_name": "Python 3",
   "language": "python",
   "name": "python3"
  },
  "language_info": {
   "codemirror_mode": {
    "name": "ipython",
    "version": 3
   },
   "file_extension": ".py",
   "mimetype": "text/x-python",
   "name": "python",
   "nbconvert_exporter": "python",
   "pygments_lexer": "ipython3",
   "version": "3.7.3"
  }
 },
 "nbformat": 4,
 "nbformat_minor": 2
}
